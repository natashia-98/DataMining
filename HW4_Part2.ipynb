{
  "nbformat": 4,
  "nbformat_minor": 0,
  "metadata": {
    "colab": {
      "name": "HW4-Part2.ipynb",
      "provenance": [],
      "collapsed_sections": [
        "xYBu4IT2hTNQ",
        "eSckmMrIhZoE"
      ],
      "authorship_tag": "ABX9TyODJX2zj2fmqtelkuc26wiQ",
      "include_colab_link": true
    },
    "kernelspec": {
      "name": "python3",
      "display_name": "Python 3"
    },
    "language_info": {
      "name": "python"
    }
  },
  "cells": [
    {
      "cell_type": "markdown",
      "metadata": {
        "id": "view-in-github",
        "colab_type": "text"
      },
      "source": [
        "<a href=\"https://colab.research.google.com/github/natashia-98/DataMining/blob/main/HW4_Part2.ipynb\" target=\"_parent\"><img src=\"https://colab.research.google.com/assets/colab-badge.svg\" alt=\"Open In Colab\"/></a>"
      ]
    },
    {
      "cell_type": "markdown",
      "source": [
        "# **Implementing Linear Regression**"
      ],
      "metadata": {
        "id": "xYBu4IT2hTNQ"
      }
    },
    {
      "cell_type": "code",
      "execution_count": null,
      "metadata": {
        "id": "HSP0X7lzYdq9"
      },
      "outputs": [],
      "source": [
        "import tensorflow as tf\n",
        "import tensorflow.compat.v1 as tf\n",
        "tf.disable_v2_behavior()\n",
        "import numpy as np\n",
        "import matplotlib.pyplot as plt\n",
        "\n"
      ]
    },
    {
      "cell_type": "code",
      "source": [
        "learning_rate = 0.01\n",
        "epochs = 200"
      ],
      "metadata": {
        "id": "9nRQT3XnYiaC"
      },
      "execution_count": null,
      "outputs": []
    },
    {
      "cell_type": "markdown",
      "source": [
        "Get training data"
      ],
      "metadata": {
        "id": "e-1esV7EZbVL"
      }
    },
    {
      "cell_type": "code",
      "source": [
        "n_samples = 70\n",
        "train_x = np.linspace(0, 20, n_samples)\n",
        "train_y = 3 * train_x + 5 * np.random.randn(n_samples)"
      ],
      "metadata": {
        "id": "LaPeAEfRYlAD"
      },
      "execution_count": null,
      "outputs": []
    },
    {
      "cell_type": "code",
      "source": [
        "plt.plot(train_x, train_y, 'o')\n",
        "plt.plot(train_x, 3 * train_x)\n",
        "plt.show()"
      ],
      "metadata": {
        "colab": {
          "base_uri": "https://localhost:8080/",
          "height": 265
        },
        "id": "WKnFHRQ1YvwJ",
        "outputId": "eb70e23d-0f00-4aad-e9f5-bc65396c203f"
      },
      "execution_count": null,
      "outputs": [
        {
          "output_type": "display_data",
          "data": {
            "image/png": "[encoded data removed]",
            "text/plain": [
              "<Figure size 432x288 with 1 Axes>"
            ]
          },
          "metadata": {
            "needs_background": "light"
          }
        }
      ]
    },
    {
      "cell_type": "code",
      "source": [
        "Model Implementation"
      ],
      "metadata": {
        "id": "sGXu1yLpZt3G"
      },
      "execution_count": null,
      "outputs": []
    },
    {
      "cell_type": "code",
      "source": [
        "X = tf.placeholder(tf.float32)\n",
        "Y = tf.placeholder(tf.float32)\n",
        "B1 = tf.Variable(np.random.randn())\n",
        "B0 = tf.Variable(np.random.randn())\n",
        "lrm = tf.add(tf.multiply(B1,X),B0)\n",
        "cost = tf.reduce_sum((lrm - Y) ** 2) / (2 * n_samples)\n",
        "optimizer = tf.train.GradientDescentOptimizer(learning_rate).minimize(cost)"
      ],
      "metadata": {
        "id": "wucTXM9bZaXY"
      },
      "execution_count": null,
      "outputs": []
    },
    {
      "cell_type": "code",
      "source": [
        "init = tf.global_variables_initializer()"
      ],
      "metadata": {
        "id": "zDfxtOBza97r"
      },
      "execution_count": null,
      "outputs": []
    },
    {
      "cell_type": "code",
      "source": [
        "with tf.Session() as tses:\n",
        "  tses.run(init)\n",
        "\n",
        "  for i in range(epochs):\n",
        "    for x,y in zip(train_x,train_y):\n",
        "      tses.run(optimizer, feed_dict = {X:x, Y:y})\n",
        "  weight1 = tses.run(B1)\n",
        "  weight2 = tses.run(B0)\n",
        "    "
      ],
      "metadata": {
        "id": "gWemQ63pdTPr"
      },
      "execution_count": null,
      "outputs": []
    },
    {
      "cell_type": "markdown",
      "source": [
        "Test model outcome"
      ],
      "metadata": {
        "id": "4BT24F4jZy87"
      }
    },
    {
      "cell_type": "code",
      "source": [
        "print(weight1, weight2)\n",
        "\n",
        "plt.plot(train_x,train_y, 'o')\n",
        "plt.plot(train_x, weight1*train_x + weight2)\n",
        "plt.show()"
      ],
      "metadata": {
        "colab": {
          "base_uri": "https://localhost:8080/",
          "height": 282
        },
        "id": "3D9lXme1fIGG",
        "outputId": "1303cdd8-7a7c-4340-e965-086d62cb3da9"
      },
      "execution_count": null,
      "outputs": [
        {
          "output_type": "stream",
          "name": "stdout",
          "text": [
            "3.171673 -2.307742\n"
          ]
        },
        {
          "output_type": "display_data",
          "data": {
            "image/png": "[encoded data removed]",
            "text/plain": [
              "<Figure size 432x288 with 1 Axes>"
            ]
          },
          "metadata": {
            "needs_background": "light"
          }
        }
      ]
    },
    {
      "cell_type": "markdown",
      "source": [
        "Our model produced a line which has weights which are close to our expected values, so our model works (weight2 represents bias)"
      ],
      "metadata": {
        "id": "8sBlhQoWZ26P"
      }
    },
    {
      "cell_type": "markdown",
      "source": [
        "# **Implementing Logistic Regression**"
      ],
      "metadata": {
        "id": "eSckmMrIhZoE"
      }
    },
    {
      "cell_type": "markdown",
      "source": [
        "**In this code, we will try to classify data from the iris dataset**"
      ],
      "metadata": {
        "id": "DVsu2AJGhxNC"
      }
    },
    {
      "cell_type": "markdown",
      "source": [
        "In order for this code to properly execute, first do the following if you have already executed the previous codes:\n",
        "Runtime -> Restart runtime"
      ],
      "metadata": {
        "id": "ZhwBAkKCXurz"
      }
    },
    {
      "cell_type": "code",
      "source": [
        "import tensorflow as tf\n",
        "import pandas as pd\n",
        "import matplotlib.pyplot as plt\n",
        "from sklearn import datasets\n",
        "from sklearn.datasets import load_iris\n",
        "import numpy\n"
      ],
      "metadata": {
        "id": "N9gJDL7XFS33"
      },
      "execution_count": null,
      "outputs": []
    },
    {
      "cell_type": "code",
      "source": [
        "learning_rate = 0.1\n",
        "epochs = 200\n",
        "\n",
        "iris = load_iris(as_frame = True)\n",
        "df = iris['data'].join(iris['target'])\n",
        "df['Setosa'] = (df['target'] == 0)*1.0\n",
        "df['Versicolor'] = (df['target'] == 1)*1.0\n",
        "df['Virginica'] = (df['target'] == 2)*1.0\n",
        "train_data = df.sample(frac=0.8, random_state=0)\n",
        "test_data = df.drop(train_data.index)"
      ],
      "metadata": {
        "id": "h2wJW3brFTpk"
      },
      "execution_count": null,
      "outputs": []
    },
    {
      "cell_type": "markdown",
      "source": [
        "Normalize data"
      ],
      "metadata": {
        "id": "zfvSUN8pFZlN"
      }
    },
    {
      "cell_type": "code",
      "source": [
        "from sklearn import preprocessing\n",
        "norm_train=(train_data.iloc[:,0:4]-train_data.iloc[:,0:4].mean())/train_data.iloc[:,0:4].std()\n",
        "norm_test=(test_data.iloc[:,0:4]-test_data.iloc[:,0:4].mean())/test_data.iloc[:,0:4].std()\n",
        "train_y = train_data['target']\n",
        "test_y = test_data['target']\n",
        "train_x1 = norm_train.iloc[:,2:3]\n",
        "test_x1 = norm_test.iloc[:,2:3]\n"
      ],
      "metadata": {
        "id": "1MiJuulrFWVP"
      },
      "execution_count": null,
      "outputs": []
    },
    {
      "cell_type": "markdown",
      "source": [
        "Visualize data"
      ],
      "metadata": {
        "id": "x_6o1hzJaQbD"
      }
    },
    {
      "cell_type": "code",
      "source": [
        "plt.plot(train_x1, train_y, 'o')\n",
        "plt.show()"
      ],
      "metadata": {
        "colab": {
          "base_uri": "https://localhost:8080/",
          "height": 265
        },
        "id": "UHU1utIlFeRq",
        "outputId": "eb372d1f-7b7c-49fb-e11e-c879320e82be"
      },
      "execution_count": null,
      "outputs": [
        {
          "output_type": "display_data",
          "data": {
            "image/png": "[encoded data removed]",
            "text/plain": [
              "<Figure size 432x288 with 1 Axes>"
            ]
          },
          "metadata": {
            "needs_background": "light"
          }
        }
      ]
    },
    {
      "cell_type": "code",
      "source": [
        "num_classes = 3\n",
        "num_features = 1\n",
        "\n",
        "# Training parameters.\n",
        "learning_rate = 0.01\n",
        "training_steps = 100\n",
        "batch_size = 40\n",
        "display_step = 20\n",
        "\n",
        "train_data=tf.data.Dataset.from_tensor_slices((train_x1,train_y))\n",
        "train_data=train_data.repeat().shuffle(50).batch(batch_size).prefetch(1)"
      ],
      "metadata": {
        "id": "yi1JFjDdFfal"
      },
      "execution_count": null,
      "outputs": []
    },
    {
      "cell_type": "code",
      "source": [
        "W = tf.Variable(tf.ones([num_features, num_classes]), name=\"weight\")\n",
        "b = tf.Variable(tf.zeros([num_classes]), name=\"bias\")"
      ],
      "metadata": {
        "id": "yLbchBzcFhyl"
      },
      "execution_count": null,
      "outputs": []
    },
    {
      "cell_type": "code",
      "source": [
        "# Logistic regression (Wx + b).\n",
        "def logistic_regression(x):\n",
        "    return tf.nn.softmax(tf.matmul(x, W) + b)\n",
        "\n",
        "# Cross-Entropy loss function.\n",
        "def cross_entropy(y_pred, y_true):\n",
        "    y_true = tf.one_hot(y_true, depth=num_classes)\n",
        "    y_pred = tf.clip_by_value(y_pred, 1e-9, 1.)\n",
        "\n",
        "    return tf.reduce_mean(-tf.reduce_sum(y_true * tf.math.log(y_pred)))\n",
        "\n",
        "# Accuracy metric.\n",
        "def accuracy(y_pred, y_true):\n",
        "  correct_prediction = tf.equal(tf.argmax(y_pred, 1), tf.cast(y_true, tf.int64))\n",
        "\n",
        "  return tf.reduce_mean(tf.cast(correct_prediction, tf.float32))\n",
        "\n",
        "# Stochastic gradient descent optimizer.\n",
        "optimizer = tf.optimizers.SGD(learning_rate)"
      ],
      "metadata": {
        "id": "sEa7avLKFk7C"
      },
      "execution_count": null,
      "outputs": []
    },
    {
      "cell_type": "code",
      "source": [
        "def run_optimization(x, y):\n",
        "    with tf.GradientTape() as g:\n",
        "        pred = logistic_regression(x)\n",
        "        loss = cross_entropy(pred, y)\n",
        "\n",
        "    gradients = g.gradient(loss, [W, b])\n",
        "  \n",
        "    optimizer.apply_gradients(zip(gradients, [W, b]))"
      ],
      "metadata": {
        "id": "9moXtFrQFoI1"
      },
      "execution_count": null,
      "outputs": []
    },
    {
      "cell_type": "code",
      "source": [
        "for (step, (batch_x, batch_y)) in enumerate(train_data.take(training_steps), 1):\n",
        "  run_optimization(tf.cast(batch_x, tf.float32), batch_y)\n",
        "\n",
        "\n",
        "  if step % display_step == 0:\n",
        "    pred = logistic_regression(tf.cast(batch_x, tf.float32))\n",
        "    loss = cross_entropy(pred, batch_y)\n",
        "    acc = accuracy(pred, batch_y)\n",
        "    print(\"step: %i, loss: %f, accuracy: %f\" % (step, loss, acc))"
      ],
      "metadata": {
        "colab": {
          "base_uri": "https://localhost:8080/"
        },
        "id": "PZHvYhrOGTjz",
        "outputId": "d96be0bf-ab28-42cc-9fb6-57f83e16ca61"
      },
      "execution_count": null,
      "outputs": [
        {
          "output_type": "stream",
          "name": "stdout",
          "text": [
            "step: 20, loss: 17.932350, accuracy: 0.850000\n",
            "step: 40, loss: 18.893982, accuracy: 0.925000\n",
            "step: 60, loss: 14.597206, accuracy: 0.950000\n",
            "step: 80, loss: 11.995378, accuracy: 0.950000\n",
            "step: 100, loss: 13.934515, accuracy: 0.975000\n"
          ]
        }
      ]
    },
    {
      "cell_type": "code",
      "source": [
        "pred = logistic_regression(tf.cast(test_x1, tf.float32))\n",
        "\n",
        "print(\"Test Accuracy: %f\" % accuracy(pred, test_y))\n"
      ],
      "metadata": {
        "colab": {
          "base_uri": "https://localhost:8080/"
        },
        "id": "TOv9Yl_yFtwO",
        "outputId": "9ea96ba5-b8dd-4bae-d32f-b65dd7b7cd95"
      },
      "execution_count": null,
      "outputs": [
        {
          "output_type": "stream",
          "name": "stdout",
          "text": [
            "Test Accuracy: 0.933333\n"
          ]
        }
      ]
    },
    {
      "cell_type": "code",
      "source": [
        "plt.plot(pred, test_y, 'o')\n",
        "plt.show()"
      ],
      "metadata": {
        "id": "HSvp47vJFzBq",
        "colab": {
          "base_uri": "https://localhost:8080/",
          "height": 265
        },
        "outputId": "5de8a966-c8e9-407f-ea40-a7e891bdae1d"
      },
      "execution_count": null,
      "outputs": [
        {
          "output_type": "display_data",
          "data": {
            "image/png": "[encoded data removed]",
            "text/plain": [
              "<Figure size 432x288 with 1 Axes>"
            ]
          },
          "metadata": {
            "needs_background": "light"
          }
        }
      ]
    },
    {
      "cell_type": "markdown",
      "source": [
        "Our model was able to produce approximately 93% accuracy in correctly classifying the three different flowers based on the chosen criteria."
      ],
      "metadata": {
        "id": "Ob-w9T5eaZUV"
      }
    },
    {
      "cell_type": "markdown",
      "source": [
        "# **Implementing Support Vector Machine**"
      ],
      "metadata": {
        "id": "hMOxvlDTXYav"
      }
    },
    {
      "cell_type": "markdown",
      "source": [
        "We will use the iris data set, classifying flowers by the feature petal width and sepal length"
      ],
      "metadata": {
        "id": "o8aaA-QacNIJ"
      }
    },
    {
      "cell_type": "code",
      "source": [
        "import tensorflow.compat.v1 as tf\n",
        "tf.disable_v2_behavior()\n",
        "from tensorflow._api.v2 import data\n",
        "import numpy as np\n",
        "\n",
        "\n",
        "sess = tf.Session()\n",
        "\n",
        "iris = datasets.load_iris()\n",
        "svm_x = np.array([[x[0], x[3]] for x in iris.data])\n",
        "svm_y = np.array([1 if y==0 else -1 for y in iris.target])"
      ],
      "metadata": {
        "id": "f0G-zcDOXBYB"
      },
      "execution_count": null,
      "outputs": []
    },
    {
      "cell_type": "code",
      "source": [
        "train = np.random.choice(len(svm_x), round(len(svm_x)*0.8), replace=False)\n",
        "test = np.array(list(set(range(len(svm_x)))-set(train)))\n",
        "svm_trainx = svm_x[train]\n",
        "svm_testx = svm_x[test]\n",
        "svm_trainy = svm_y[train]\n",
        "svm_testy = svm_y[test]"
      ],
      "metadata": {
        "id": "OgNHsNxUgskb"
      },
      "execution_count": null,
      "outputs": []
    },
    {
      "cell_type": "code",
      "source": [
        "batch_size=100\n",
        "x_data = tf.placeholder(shape=[None,2], dtype=tf.float32)\n",
        "y_data = tf.placeholder(shape=[None,1], dtype=tf.float32)\n",
        "W = tf.Variable(tf.random_normal(shape=[2,1]))\n",
        "b = tf.Variable(tf.random_normal(shape=[1,1]))\n",
        "\n",
        "\n",
        "model_output = tf.subtract(tf.matmul(x_data,W), b)\n"
      ],
      "metadata": {
        "id": "gjAIXJvBmRkb"
      },
      "execution_count": null,
      "outputs": []
    },
    {
      "cell_type": "code",
      "source": [
        "l2_norm = tf.reduce_sum(tf.square(W))\n",
        "alpha = 0.1\n",
        "classification_term = tf.reduce_mean(tf.maximum(0., tf.subtract(1., tf.multiply(model_output,y_data))))\n",
        "loss = tf.add(tf.multiply(alpha,l2_norm), classification_term)\n",
        "\n"
      ],
      "metadata": {
        "id": "yA80ltKHrdIy"
      },
      "execution_count": null,
      "outputs": []
    },
    {
      "cell_type": "code",
      "source": [
        "prediction = tf.sign(model_output)\n",
        "accuracy = tf.reduce_mean(tf.cast(tf.equal(prediction, y_data), tf.float32))\n",
        "residuals = prediction - y_data"
      ],
      "metadata": {
        "id": "Vdr8qV-z9pnI"
      },
      "execution_count": null,
      "outputs": []
    },
    {
      "cell_type": "code",
      "source": [
        "svm_opt = tf.train.GradientDescentOptimizer(0.01)\n",
        "train_step = svm_opt.minimize(loss)\n",
        "init = tf.global_variables_initializer()\n",
        "sess.run(init)"
      ],
      "metadata": {
        "id": "0jLIUNr0_ZSg"
      },
      "execution_count": null,
      "outputs": []
    },
    {
      "cell_type": "code",
      "source": [
        "with tf.name_scope('Loss'):\n",
        "  tf.summary.histogram('Histogram_Errors', accuracy)\n",
        "  tf.summary.histogram('Histogram_Residuals', residuals)\n",
        "  Loss_summary_OP = tf.summary.merge_all()"
      ],
      "metadata": {
        "id": "jMCcLts-CEq2"
      },
      "execution_count": null,
      "outputs": []
    },
    {
      "cell_type": "code",
      "source": [
        "loss_vec = []\n",
        "train_accuracy = []\n",
        "test_accuracy = []"
      ],
      "metadata": {
        "id": "XTY5UD-G_Zij"
      },
      "execution_count": null,
      "outputs": []
    },
    {
      "cell_type": "code",
      "source": [
        "from tensorboard.summary._tf import summary\n",
        "for i in range(5000):\n",
        "  rand_index = np.random.choice(len(svm_trainx), size=batch_size)\n",
        "  rand_x = svm_trainx[rand_index]\n",
        "  rand_y = np.transpose([svm_trainy[rand_index]])\n"
      ],
      "metadata": {
        "id": "GqOoXhR6_Zus",
        "colab": {
          "base_uri": "https://localhost:8080/",
          "height": 235
        },
        "outputId": "4691d884-b35a-4445-c114-8809f4db03f7"
      },
      "execution_count": null,
      "outputs": [
        {
          "output_type": "error",
          "ename": "NameError",
          "evalue": "ignored",
          "traceback": [
            "\u001b[0;31m---------------------------------------------------------------------------\u001b[0m",
            "\u001b[0;31mNameError\u001b[0m                                 Traceback (most recent call last)",
            "\u001b[0;32m<ipython-input-34-2ad19f84b0d5>\u001b[0m in \u001b[0;36m<module>\u001b[0;34m()\u001b[0m\n\u001b[1;32m      5\u001b[0m   \u001b[0mrand_y\u001b[0m \u001b[0;34m=\u001b[0m \u001b[0mnp\u001b[0m\u001b[0;34m.\u001b[0m\u001b[0mtranspose\u001b[0m\u001b[0;34m(\u001b[0m\u001b[0;34m[\u001b[0m\u001b[0msvm_trainy\u001b[0m\u001b[0;34m[\u001b[0m\u001b[0mrand_index\u001b[0m\u001b[0;34m]\u001b[0m\u001b[0;34m]\u001b[0m\u001b[0;34m)\u001b[0m\u001b[0;34m\u001b[0m\u001b[0;34m\u001b[0m\u001b[0m\n\u001b[1;32m      6\u001b[0m \u001b[0;34m\u001b[0m\u001b[0m\n\u001b[0;32m----> 7\u001b[0;31m   \u001b[0m_\u001b[0m\u001b[0;34m,\u001b[0m \u001b[0mtrain_loss\u001b[0m\u001b[0;34m,\u001b[0m \u001b[0msummary\u001b[0m\u001b[0;34m\u001b[0m\u001b[0;34m\u001b[0m\u001b[0m\n\u001b[0m\u001b[1;32m      8\u001b[0m \u001b[0;34m\u001b[0m\u001b[0m\n\u001b[1;32m      9\u001b[0m \u001b[0;31m#https://www.youtube.com/watch?v=zErT-VtYOHk&t=3s\u001b[0m\u001b[0;34m\u001b[0m\u001b[0;34m\u001b[0m\u001b[0;34m\u001b[0m\u001b[0m\n",
            "\u001b[0;31mNameError\u001b[0m: name 'train_loss' is not defined"
          ]
        }
      ]
    },
    {
      "cell_type": "markdown",
      "source": [
        "# **Support Vector Regression**"
      ],
      "metadata": {
        "id": "EjHmZ1PlXB-6"
      }
    },
    {
      "cell_type": "code",
      "source": [
        "import matplotlib.pyplot as plt\n",
        "import numpy as np\n",
        "import tensorflow as tf\n",
        "import tensorflow.compat.v1 as tf\n",
        "tf.disable_v2_behavior()\n",
        "from sklearn import datasets\n",
        "from tensorflow.python.framework import ops\n",
        "ops.reset_default_graph()"
      ],
      "metadata": {
        "id": "6Que00728A-U"
      },
      "execution_count": null,
      "outputs": []
    },
    {
      "cell_type": "markdown",
      "source": [
        "Load the data and creaye datasets"
      ],
      "metadata": {
        "id": "9XvPC_OB8xzB"
      }
    },
    {
      "cell_type": "code",
      "source": [
        "# Create graph\n",
        "sess = tf.Session()\n",
        "\n",
        "iris = datasets.load_iris()\n",
        "x_vals = np.array([x[3] for x in iris.data])\n",
        "y_vals = np.array([y[0] for y in iris.data])\n",
        "\n",
        "train_indices = np.random.choice(len(x_vals), round(len(x_vals)*0.8), replace=False)\n",
        "test_indices = np.array(list(set(range(len(x_vals))) - set(train_indices)))\n",
        "x_vals_train = x_vals[train_indices]\n",
        "x_vals_test = x_vals[test_indices]\n",
        "y_vals_train = y_vals[train_indices]\n",
        "y_vals_test = y_vals[test_indices]"
      ],
      "metadata": {
        "id": "L_z35GoN8BSJ"
      },
      "execution_count": null,
      "outputs": []
    },
    {
      "cell_type": "code",
      "source": [
        "# Declare batch size\n",
        "batch_size = 50\n",
        "\n",
        "# Initialize placeholders\n",
        "x_data = tf.placeholder(shape=[None, 1], dtype=tf.float32)\n",
        "y_target = tf.placeholder(shape=[None, 1], dtype=tf.float32)\n",
        "\n",
        "# Create variables for linear regression\n",
        "W = tf.Variable(tf.random_normal(shape=[1,1]))\n",
        "b = tf.Variable(tf.random_normal(shape=[1,1]))\n",
        "\n",
        "model_output = tf.add(tf.matmul(x_data, W), b)\n",
        "epsilon = tf.constant([0.5])\n",
        "loss = tf.reduce_mean(tf.maximum(0., tf.subtract(tf.abs(tf.subtract(model_output, y_target)), epsilon)))\n",
        "my_opt = tf.train.GradientDescentOptimizer(0.075)\n",
        "train_step = my_opt.minimize(loss)\n",
        "\n",
        "init = tf.global_variables_initializer()\n",
        "sess.run(init)"
      ],
      "metadata": {
        "id": "f_kV-AEb8BgH"
      },
      "execution_count": null,
      "outputs": []
    },
    {
      "cell_type": "code",
      "source": [
        "# Training loop\n",
        "train_loss = []\n",
        "test_loss = []\n",
        "for i in range(200):\n",
        "    rand_index = np.random.choice(len(x_vals_train), size=batch_size)\n",
        "    rand_x = np.transpose([x_vals_train[rand_index]])\n",
        "    rand_y = np.transpose([y_vals_train[rand_index]])\n",
        "    sess.run(train_step, feed_dict={x_data: rand_x, y_target: rand_y})\n",
        "    \n",
        "    temp_train_loss = sess.run(loss, feed_dict={x_data: np.transpose([x_vals_train]), y_target: np.transpose([y_vals_train])})\n",
        "    train_loss.append(temp_train_loss)\n",
        "    \n",
        "    temp_test_loss = sess.run(loss, feed_dict={x_data: np.transpose([x_vals_test]), y_target: np.transpose([y_vals_test])})\n",
        "    test_loss.append(temp_test_loss)\n",
        "    if (i+1)%50==0:\n",
        "        print( str(i+1))\n",
        "        print('W = ' + str(sess.run(W)) + ' b = ' + str(sess.run(b)))\n",
        "        "
      ],
      "metadata": {
        "colab": {
          "base_uri": "https://localhost:8080/"
        },
        "id": "3Etx5eGK8Btk",
        "outputId": "a7382783-89b3-417c-e894-5970e1499e85"
      },
      "execution_count": null,
      "outputs": [
        {
          "output_type": "stream",
          "name": "stdout",
          "text": [
            "50\n",
            "W = [[2.67424]] b = [[2.0404081]]\n",
            "100\n",
            "W = [[1.9824401]] b = [[3.1189072]]\n",
            "150\n",
            "W = [[1.43434]] b = [[3.9589076]]\n",
            "200\n",
            "W = [[1.14769]] b = [[4.4224095]]\n"
          ]
        }
      ]
    },
    {
      "cell_type": "code",
      "source": [
        "[[slope]] = sess.run(W)\n",
        "[[y_intercept]] = sess.run(b)\n",
        "width = sess.run(epsilon)\n",
        "\n",
        "# Get best fit line\n",
        "best_fit = []\n",
        "best_fit_upper = []\n",
        "best_fit_lower = []\n",
        "for i in x_vals:\n",
        "    best_fit.append(slope*i+y_intercept)\n",
        "    best_fit_upper.append(slope*i+y_intercept+width)\n",
        "    best_fit_lower.append(slope*i+y_intercept-width)"
      ],
      "metadata": {
        "id": "8N-lyl-Y-wj5"
      },
      "execution_count": null,
      "outputs": []
    },
    {
      "cell_type": "code",
      "source": [
        "plt.plot(x_vals, y_vals, 'o', label='Data Points')\n",
        "plt.plot(x_vals, best_fit, 'r-', label='SVM Regression Line', linewidth=3)\n",
        "plt.plot(x_vals, best_fit_upper, 'r--', linewidth=2)\n",
        "plt.plot(x_vals, best_fit_lower, 'r--', linewidth=2)\n",
        "plt.ylim([0, 10])\n",
        "plt.legend(loc='lower right')\n",
        "plt.title('Sepal Length vs Petal Width')\n",
        "plt.xlabel('Petal Width')\n",
        "plt.ylabel('Sepal Length')\n",
        "plt.show()"
      ],
      "metadata": {
        "colab": {
          "base_uri": "https://localhost:8080/",
          "height": 295
        },
        "id": "3WqTdk4c-ww6",
        "outputId": "bef3391c-3d7e-4bda-c3a9-f11708ff8d26"
      },
      "execution_count": null,
      "outputs": [
        {
          "output_type": "display_data",
          "data": {
            "text/plain": [
              "<Figure size 432x288 with 1 Axes>"
            ],
            "image/png": "[encoded data removed]"
          },
          "metadata": {
            "needs_background": "light"
          }
        }
      ]
    },
    {
      "cell_type": "markdown",
      "source": [
        "# **Implementing XOR Neural Network**"
      ],
      "metadata": {
        "id": "KN_hywZlRR9U"
      }
    },
    {
      "cell_type": "code",
      "source": [
        "import numpy as np\n",
        "in_nodes=2\n",
        "hd_nodes = 2\n",
        "out_node = 1\n",
        "W_hd = np.random.uniform(size=(in_nodes,hd_nodes))\n",
        "b_hd =np.random.uniform(size=(1,hd_nodes))\n",
        "W_out = np.random.uniform(size=(hd_nodes,out_node))\n",
        "b_out = np.random.uniform(size=(1,out_node))\n",
        "\n",
        "learning_rate=0.5\n",
        "epochs = [200, 500, 1000, 5000, 10000]\n"
      ],
      "metadata": {
        "id": "37l3RfeERVWu"
      },
      "execution_count": null,
      "outputs": []
    },
    {
      "cell_type": "code",
      "source": [
        "inputs = np.array([[0,0],[0,1],[1,0],[1,1]])\n",
        "expected_output = np.array([[0],[1],[1],[0]])"
      ],
      "metadata": {
        "id": "C1oeEk3yRd6r"
      },
      "execution_count": null,
      "outputs": []
    },
    {
      "cell_type": "markdown",
      "source": [
        "Create sigmoid function that will be used for the hidden and output layers, as well as the derivative for the back propogation."
      ],
      "metadata": {
        "id": "RunricVjat_h"
      }
    },
    {
      "cell_type": "code",
      "source": [
        "def sigmoid (x):\n",
        "    return 1/(1 + np.exp(-x))\n",
        "\n",
        "\n",
        "def sigmoid_der(x):\n",
        "    return x * (1 - x)\n"
      ],
      "metadata": {
        "id": "xB6KBDvYReBs"
      },
      "execution_count": null,
      "outputs": []
    },
    {
      "cell_type": "markdown",
      "source": [
        "Model implementation for a single node"
      ],
      "metadata": {
        "id": "yDklWhBva-BA"
      }
    },
    {
      "cell_type": "code",
      "source": [
        "for i in epochs:\n",
        "  for x in range(epochs[epochs.index(i)]):\n",
        "    hd_activation = np.dot(inputs,W_hd) + b_hd\n",
        "    out_hd = sigmoid(hd_activation)\n",
        "    out_activation = np.dot(out_hd,W_out) + b_out\n",
        "    out_pred = sigmoid(out_activation)\n",
        "\n",
        "    #Backpropagation\n",
        "    error = expected_output - out_pred\n",
        "    d_out_pred = error * sigmoid_der(out_pred)\n",
        "    error_hd = d_out_pred.dot(W_out.T)\n",
        "    d_hd = error_hd * sigmoid_der(out_hd)\n",
        "\n",
        "    #Updating Weights and Biases\n",
        "    W_out += out_hd.T.dot(d_out_pred) * learning_rate\n",
        "    b_out += np.sum(d_out_pred,axis=0,keepdims=True) * learning_rate\n",
        "    W_hd += inputs.T.dot(d_hd) * learning_rate\n",
        "    b_hd += np.sum(d_hd,axis=0,keepdims=True) * learning_rate\n",
        "\n",
        "  print(\"Epochs:\" + str(epochs[epochs.index(i)]))\n",
        "  print(\"Expected: \\n\" + str(expected_output) + \"\\n Predicted: \\n\" + str(out_pred))\n",
        "  print(\"\\n\")\n"
      ],
      "metadata": {
        "id": "EDeb6eoDReN_",
        "colab": {
          "base_uri": "https://localhost:8080/"
        },
        "outputId": "664b95ad-9efb-4575-d31b-5dfdf7893b4c"
      },
      "execution_count": null,
      "outputs": [
        {
          "output_type": "stream",
          "name": "stdout",
          "text": [
            "Epochs:200\n",
            "Expected: \n",
            "[[0]\n",
            " [1]\n",
            " [1]\n",
            " [0]]\n",
            " Predicted: \n",
            "[[0.03000045]\n",
            " [0.97361219]\n",
            " [0.97363211]\n",
            " [0.0276692 ]]\n",
            "\n",
            "\n",
            "Epochs:500\n",
            "Expected: \n",
            "[[0]\n",
            " [1]\n",
            " [1]\n",
            " [0]]\n",
            " Predicted: \n",
            "[[0.02813081]\n",
            " [0.9753343 ]\n",
            " [0.97535224]\n",
            " [0.02581013]]\n",
            "\n",
            "\n",
            "Epochs:1000\n",
            "Expected: \n",
            "[[0]\n",
            " [1]\n",
            " [1]\n",
            " [0]]\n",
            " Predicted: \n",
            "[[0.02522989]\n",
            " [0.97798495]\n",
            " [0.97799997]\n",
            " [0.02296271]]\n",
            "\n",
            "\n",
            "Epochs:5000\n",
            "Expected: \n",
            "[[0]\n",
            " [1]\n",
            " [1]\n",
            " [0]]\n",
            " Predicted: \n",
            "[[0.01786668]\n",
            " [0.98460034]\n",
            " [0.98460892]\n",
            " [0.01593102]]\n",
            "\n",
            "\n",
            "Epochs:10000\n",
            "Expected: \n",
            "[[0]\n",
            " [1]\n",
            " [1]\n",
            " [0]]\n",
            " Predicted: \n",
            "[[0.01258574]\n",
            " [0.98924936]\n",
            " [0.98925424]\n",
            " [0.01105428]]\n",
            "\n",
            "\n"
          ]
        }
      ]
    },
    {
      "cell_type": "markdown",
      "source": [
        "Our model is accurately able to implement the XOR algorithm. We also observe that increasing the value used for epochs increases the model's accuracy"
      ],
      "metadata": {
        "id": "VsUEcgl8JMpG"
      }
    }
  ]
}